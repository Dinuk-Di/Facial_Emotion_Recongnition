{
 "cells": [
  {
   "cell_type": "code",
   "execution_count": null,
   "id": "267cf16c",
   "metadata": {},
   "outputs": [],
   "source": [
    "import pandas as pd\n",
    "import numpy as np\n",
    "import os\n",
    "import matplotlib.pyplot as plt\n",
    "import seaborn as sns\n",
    "\n",
    "import warnings\n",
    "warnings.filterwarnings(\"ignore\")\n",
    "%matplotlib inline\n",
    "\n",
    "import tensorflow as tf\n",
    "from tensorflow.keras.utils import to_categorical\n",
    "from keras.preprocessing.image import load_img\n",
    "from keras.models import Sequential\n",
    "from keras.layers import Dense, Dropout, Flatten,Conv2D, MaxPooling2D"
   ]
  },
  {
   "cell_type": "code",
   "execution_count": null,
   "id": "cf853361",
   "metadata": {},
   "outputs": [],
   "source": [
    "# import os\n",
    "# import shutil\n",
    "# import re\n",
    "\n",
    "# # Path to the folder containing all images\n",
    "# affectnet_folder = '/mnt/d/RuhunaNew/Academic/Research/Facial_Recog/Group_50/AffectNet'\n",
    "\n",
    "# # Destination base folder to hold class folders (can be same as affectnet_folder or different)\n",
    "# dest_base_folder = '/mnt/d/RuhunaNew/Academic/Research/Facial_Recog/Group_50/Affectnet'\n",
    "\n",
    "# # Create class folders class001 to class007\n",
    "# for i in range(1, 8):\n",
    "#     class_folder = os.path.join(dest_base_folder, f'class{str(i).zfill(3)}')\n",
    "#     os.makedirs(class_folder, exist_ok=True)\n",
    "\n",
    "# # Regex pattern to extract classXXX from filename\n",
    "# class_pattern = re.compile(r'class\\d{3}')\n",
    "\n",
    "# # Iterate over all files in the source folder\n",
    "# for filename in os.listdir(affectnet_folder):\n",
    "#     # Only process files (skip directories)\n",
    "#     file_path = os.path.join(affectnet_folder, filename)\n",
    "#     if not os.path.isfile(file_path):\n",
    "#         continue\n",
    "\n",
    "#     # Extract class substring from filename\n",
    "#     match = class_pattern.search(filename)\n",
    "#     if match:\n",
    "#         class_folder_name = match.group(0)  # e.g. 'class001'\n",
    "#         dest_folder = os.path.join(dest_base_folder, class_folder_name)\n",
    "\n",
    "#         # Move the file to the corresponding class folder\n",
    "#         dest_path = os.path.join(dest_folder, filename)\n",
    "#         shutil.move(file_path, dest_path)\n",
    "#         print(f\"Moved {filename} to {dest_folder}\")\n",
    "#     else:\n",
    "#         print(f\"Class not found in filename: {filename}\")\n"
   ]
  },
  {
   "cell_type": "code",
   "execution_count": null,
   "id": "73b301bd",
   "metadata": {},
   "outputs": [],
   "source": [
    "classes = ['anger', 'disgust','fear','happy','neutral','sad','surprise']"
   ]
  },
  {
   "cell_type": "code",
   "execution_count": null,
   "id": "c6c1334e",
   "metadata": {},
   "outputs": [],
   "source": [
    "# import shutil\n",
    "\n",
    "\n",
    "# # split 20% from each folder and create validation folder\n",
    "# dest_base_folder = '/mnt/d/RuhunaNew/Academic/Research/Facial_Recog/Group_50/Affectnet'\n",
    "# for i in range(1, 8):\n",
    "#     class_folder = os.path.join(dest_base_folder, classes[i-1])\n",
    "#     val_folder = os.path.join(dest_base_folder, 'val', classes[i-1])\n",
    "#     os.makedirs(val_folder, exist_ok=True)\n",
    "\n",
    "#     # Get all files in the class folder\n",
    "#     files = os.listdir(class_folder)\n",
    "    \n",
    "#     # Calculate the number of files to move (20% of total)\n",
    "#     num_files_to_move = int(len(files) * 0.2)\n",
    "    \n",
    "#     # Move the files to the validation folder\n",
    "#     for j in range(num_files_to_move):\n",
    "#         file_path = os.path.join(class_folder, files[j])\n",
    "#         dest_path = os.path.join(val_folder, files[j])\n",
    "#         shutil.move(file_path, dest_path)\n",
    "#         print(f\"Moved {files[j]} to {val_folder}\")"
   ]
  },
  {
   "cell_type": "code",
   "execution_count": null,
   "id": "5ac237ee",
   "metadata": {},
   "outputs": [],
   "source": [
    "# Dataset loading\n",
    "TRAIN_DIR = '/mnt/d/RuhunaNew/Academic/Research/Facial_Recog/Group_50/Affectnet/train/'\n",
    "TEST_DIR = '/mnt/d/RuhunaNew/Academic/Research/Facial_Recog/Group_50/Affectnet/val/'"
   ]
  },
  {
   "cell_type": "code",
   "execution_count": null,
   "id": "f459f8c8",
   "metadata": {},
   "outputs": [],
   "source": []
  },
  {
   "cell_type": "code",
   "execution_count": null,
   "id": "bef46603",
   "metadata": {},
   "outputs": [],
   "source": [
    "def load_dataset(directory):\n",
    "    image_paths = []\n",
    "    labels = []\n",
    "\n",
    "    for label in os.listdir(directory):\n",
    "        label_path = os.path.join(directory, label)\n",
    "        if os.path.isdir(label_path):  # Ensure it's a folder\n",
    "            for filename in os.listdir(label_path):\n",
    "                img_path = os.path.join(label_path, filename)\n",
    "                image_paths.append(img_path)\n",
    "                labels.append(label)\n",
    "            print(label, \"Completed\")\n",
    "\n",
    "    return image_paths, labels"
   ]
  },
  {
   "cell_type": "code",
   "execution_count": null,
   "id": "f7455ed7",
   "metadata": {},
   "outputs": [],
   "source": [
    "\n",
    "# Load and shuffle dataset\n",
    "image_paths, labels = load_dataset(TRAIN_DIR)\n",
    "train = pd.DataFrame({'image': image_paths, 'label': labels})\n",
    "train = train.sample(frac=1).reset_index(drop=True)\n",
    "train.head()"
   ]
  },
  {
   "cell_type": "code",
   "execution_count": null,
   "id": "5315001b",
   "metadata": {},
   "outputs": [],
   "source": [
    "train.shape"
   ]
  },
  {
   "cell_type": "code",
   "execution_count": null,
   "id": "0a0cfd0c",
   "metadata": {},
   "outputs": [],
   "source": [
    "test = pd.DataFrame()\n",
    "test['image'],test['label'] = load_dataset(TEST_DIR)\n",
    "test.head()"
   ]
  },
  {
   "cell_type": "code",
   "execution_count": null,
   "id": "4cc75c77",
   "metadata": {},
   "outputs": [],
   "source": [
    "sns.countplot(x='label', data=train)\n",
    "plt.xticks(rotation=45)  # Optional: rotates x-axis labels for better readability\n",
    "plt.title(\"Label Distribution\")\n",
    "plt.show()\n"
   ]
  },
  {
   "cell_type": "code",
   "execution_count": null,
   "id": "89201852",
   "metadata": {},
   "outputs": [],
   "source": [
    "from PIL import Image\n",
    "\n",
    "img = Image.open(train['image'][0])\n",
    "\n",
    "plt.imshow(img, cmap='gray')"
   ]
  },
  {
   "cell_type": "code",
   "execution_count": null,
   "id": "1ecd0be9",
   "metadata": {},
   "outputs": [],
   "source": [
    "plt.figure(figsize=(10, 10))\n",
    "files = train.iloc[0:25]\n",
    "\n",
    "for index,file,label in files.itertuples():\n",
    "    plt.subplot(5, 5, index + 1)\n",
    "    img = load_img(file)\n",
    "    img = np.array(img)\n",
    "    plt.imshow(img, cmap='gray')\n",
    "    plt.title(label)\n",
    "    plt.axis('off')"
   ]
  },
  {
   "cell_type": "code",
   "execution_count": null,
   "id": "d4ce6396",
   "metadata": {},
   "outputs": [],
   "source": [
    "from tqdm import tqdm\n",
    "\n",
    "# Feature extraction\n",
    "def extract_features(images):\n",
    "    features = []\n",
    "    for image in tqdm(images):\n",
    "        img = load_img(image, color_mode='grayscale', target_size=(128, 128))\n",
    "        img = np.array(img)\n",
    "        features.append(img)\n",
    "    features = np.array(features)\n",
    "    features = features.reshape(len(features), 128, 128, 1)\n",
    "    return features"
   ]
  },
  {
   "cell_type": "code",
   "execution_count": null,
   "id": "987f5ab3",
   "metadata": {},
   "outputs": [],
   "source": [
    "train_features = extract_features(train['image'])\n"
   ]
  },
  {
   "cell_type": "code",
   "execution_count": null,
   "id": "e1b91f00",
   "metadata": {},
   "outputs": [],
   "source": [
    "test_features = extract_features(test['image'])"
   ]
  },
  {
   "cell_type": "code",
   "execution_count": null,
   "id": "ec6a7e3d",
   "metadata": {},
   "outputs": [],
   "source": [
    "# Normalization\n",
    "\n",
    "X_train = train_features/255.0\n",
    "X_test = test_features/255.0"
   ]
  },
  {
   "cell_type": "code",
   "execution_count": null,
   "id": "cf69f430",
   "metadata": {},
   "outputs": [],
   "source": [
    "# Convert labels to intergers\n",
    "from  sklearn.preprocessing import LabelEncoder\n",
    "\n",
    "le = LabelEncoder()\n",
    "le.fit(train['label'])\n",
    "y_train = le.transform(train['label'])\n",
    "y_test = le.transform(test['label'])"
   ]
  },
  {
   "cell_type": "code",
   "execution_count": null,
   "id": "5d1d0401",
   "metadata": {},
   "outputs": [],
   "source": [
    "y_train = to_categorical(y_train, num_classes=7)\n",
    "y_test = to_categorical(y_test, num_classes=7)"
   ]
  },
  {
   "cell_type": "code",
   "execution_count": null,
   "id": "feff74d8",
   "metadata": {},
   "outputs": [],
   "source": [
    "y_train[0]"
   ]
  },
  {
   "cell_type": "code",
   "execution_count": null,
   "id": "ffde9895",
   "metadata": {},
   "outputs": [],
   "source": [
    "# config\n",
    "\n",
    "input_shape = (128, 128, 1)\n",
    "output_class  = 7\n"
   ]
  },
  {
   "cell_type": "code",
   "execution_count": null,
   "id": "7518e57c",
   "metadata": {},
   "outputs": [],
   "source": [
    "# Model Creation\n",
    "\n",
    "model = Sequential()\n",
    "model.add(Conv2D(128, (3, 3), activation='relu', input_shape=input_shape))\n",
    "model.add(MaxPooling2D(pool_size=(2, 2)))\n",
    "model.add(Dropout(0.4))\n",
    "\n",
    "\n",
    "model.add(Conv2D(256, (3, 3), activation='relu', input_shape=input_shape))\n",
    "model.add(MaxPooling2D(pool_size=(2, 2)))\n",
    "model.add(Dropout(0.4))\n",
    "\n",
    "\n",
    "model.add(Conv2D(512, (3, 3), activation='relu', input_shape=input_shape))\n",
    "model.add(MaxPooling2D(pool_size=(2, 2)))\n",
    "model.add(Dropout(0.4))\n",
    "\n",
    "\n",
    "model.add(Conv2D(512, (3, 3), activation='relu', input_shape=input_shape))\n",
    "model.add(MaxPooling2D(pool_size=(2, 2)))\n",
    "model.add(Dropout(0.4))\n",
    "\n",
    " # full connected layers\n",
    "model.add(Flatten())\n",
    "model.add(Dense(512, activation='relu'))\n",
    "model.add(Dropout(0.4))\n",
    "\n",
    "model.add(Dense(256, activation='relu'))\n",
    "model.add(Dropout(0.3))\n",
    "\n",
    "# output layer\n",
    "model.add(Dense(output_class, activation='softmax'))\n",
    "\n",
    "model.compile(optimizer='adam', loss='categorical_crossentropy', metrics=['accuracy'])"
   ]
  },
  {
   "cell_type": "code",
   "execution_count": null,
   "id": "3e3c36fe",
   "metadata": {},
   "outputs": [],
   "source": [
    "# train the model\n",
    "\n",
    "history = model.fit(X_train, y_train, epochs=50, batch_size=64, validation_data=(X_test, y_test), verbose=1)"
   ]
  },
  {
   "cell_type": "code",
   "execution_count": null,
   "id": "826a338d",
   "metadata": {},
   "outputs": [],
   "source": [
    "# save the model\n",
    "model.save('affectnet_face.h5')\n",
    "# save the label encoder\n",
    "import pickle\n",
    "with open('affectnet_face_encoder.pkl', 'wb') as f:\n",
    "    pickle.dump(le, f)"
   ]
  },
  {
   "cell_type": "code",
   "execution_count": null,
   "id": "f6e95790",
   "metadata": {},
   "outputs": [],
   "source": [
    "acc = history.history['accuracy']\n",
    "val_acc = history.history['val_accuracy']\n",
    "epochs = range(len(acc))\n",
    "\n",
    "\n",
    "plt.plot(epochs, acc, 'r', label='Training accuracy')\n",
    "plt.plot(epochs, val_acc, 'b', label='Validation accuracy')\n",
    "plt.title('Training and validation accuracy')\n",
    "plt.legend()"
   ]
  },
  {
   "cell_type": "code",
   "execution_count": null,
   "id": "b50eeff0",
   "metadata": {},
   "outputs": [],
   "source": [
    "loss = history.history['loss']\n",
    "val_loss = history.history['val_loss']\n",
    "epochs = range(len(acc))\n",
    "\n",
    "\n",
    "plt.plot(epochs, loss, 'r', label='Training Loss')\n",
    "plt.plot(epochs, val_loss, 'b', label='Validation Loss')\n",
    "plt.title('Loss Graph')\n",
    "plt.legend()"
   ]
  },
  {
   "cell_type": "code",
   "execution_count": null,
   "id": "3646c277",
   "metadata": {},
   "outputs": [],
   "source": [
    "import random\n",
    "\n",
    "image_index = random.randint(0,len(test))\n",
    "print(\"Original Output: \", test['label'][image_index])\n",
    "pred = model.predict(X_test[image_index].reshape(1, 48, 48, 1))\n",
    "prediction_label = le.inverse_transform([np.argmax()])\n",
    "\n",
    "print(\"Predicted Output: \", prediction_label)\n",
    "plt.imshow(X_test[image_index].reshape(48, 48), cmap='gray')\n"
   ]
  },
  {
   "cell_type": "code",
   "execution_count": null,
   "id": "51da6a4d",
   "metadata": {},
   "outputs": [],
   "source": [
    "# save the model\n",
    "model.save('face_recognition_model.h5')\n",
    "# save the label encoder\n",
    "import pickle\n",
    "with open('label_encoder.pkl', 'wb') as f:\n",
    "    pickle.dump(le, f)\n",
    "# load the model\n",
    "from keras.models import load_model\n",
    "model = load_model('face_recognition_model.h5')\n",
    "# load the label encoder\n",
    "with open('label_encoder.pkl', 'rb') as f:\n",
    "    le = pickle.load(f)\n",
    "# load the test image\n",
    "test_image = load_img('/mnt/d/RuhunaNew/Academic/Research/Facial_Recog/Group_50/SampleDataset/val/stress/PrivateTest_528072.jpg', color_mode='grayscale', target_size=(48, 48))\n",
    "test_image = np.array(test_image)\n",
    "test_image = test_image.reshape(1, 48, 48, 1)\n",
    "# predict the label\n",
    "pred = model.predict(test_image)\n",
    "prediction_label = le.inverse_transform([np.argmax(pred)])\n",
    "print(\"Predicted Label: \", prediction_label)"
   ]
  },
  {
   "cell_type": "code",
   "execution_count": null,
   "id": "9ca37618",
   "metadata": {},
   "outputs": [],
   "source": [
    "# predict from webcam in 4 seconds time frame\n",
    "import cv2\n",
    "import time\n",
    "import numpy as np\n",
    "import os\n",
    "import pickle\n",
    "from keras.models import load_model\n",
    "\n",
    "# Load the model\n",
    "model = load_model('face_recognition_model.h5')\n",
    "# Load the label encoder\n",
    "with open('label_encoder.pkl', 'rb') as f:\n",
    "    le = pickle.load(f)\n",
    "\n",
    "# Webcam prediction\n",
    "cap = cv2.VideoCapture(0)\n",
    "cap.set(3, 640)\n",
    "cap.set(4, 480)\n",
    "\n",
    "start_time = time.time()\n",
    "duration = 4  # seconds\n",
    "\n",
    "while True:\n",
    "    ret, frame = cap.read()\n",
    "    if not ret:\n",
    "        break\n",
    "\n",
    "    # Preprocess the frame for the model\n",
    "    img = cv2.resize(frame, (224, 224))\n",
    "    img = img.astype('float32') / 255.0\n",
    "    img = np.expand_dims(img, axis=0)\n",
    "\n",
    "    # Predict\n",
    "    preds = model.predict(img)\n",
    "    pred_label = np.argmax(preds)\n",
    "\n",
    "    # Display the label on the frame\n",
    "    cv2.putText(frame, f'Prediction: {pred_label}', (10, 30),\n",
    "                cv2.FONT_HERSHEY_SIMPLEX, 1, (0, 255, 0), 2)\n",
    "\n",
    "    cv2.imshow('Webcam Prediction', frame)\n",
    "\n",
    "    # Exit if 'q' is pressed or after 4 seconds\n",
    "    if cv2.waitKey(1) & 0xFF == ord('q'):\n",
    "        break\n",
    "    if time.time() - start_time > duration:\n",
    "        break\n",
    "\n",
    "cap.release()\n",
    "cv2.destroyAllWindows()\n"
   ]
  },
  {
   "cell_type": "code",
   "execution_count": null,
   "id": "13949782",
   "metadata": {},
   "outputs": [],
   "source": [
    "import cv2\n",
    "import time\n",
    "import numpy as np\n",
    "import pickle\n",
    "from keras.models import load_model\n",
    "from ultralytics import YOLO\n",
    "\n",
    "# Load emotion recognition model and label encoder\n",
    "model = load_model('face_recognition_model.h5')\n",
    "with open('label_encoder.pkl', 'rb') as f:\n",
    "    le = pickle.load(f)\n",
    "\n",
    "# Load YOLOv8n face detector (use a face-detection specific model if possible)\n",
    "yolo_model = YOLO('yolov8n.pt')  # Replace with 'yolov8n-face.pt' if you have a face-specific model\n",
    "\n",
    "cap = cv2.VideoCapture(0)\n",
    "cap.set(3, 640)\n",
    "cap.set(4, 480)\n",
    "\n",
    "interval = 4  # seconds\n",
    "last_prediction_time = time.time()\n",
    "\n",
    "while True:\n",
    "    ret, frame = cap.read()\n",
    "    if not ret:\n",
    "        continue\n",
    "\n",
    "    # YOLOv8 expects RGB images\n",
    "    results = yolo_model.predict(frame, conf=0.5, verbose=False)\n",
    "    faces = []\n",
    "    for box in results[0].boxes:\n",
    "        cls = int(box.cls[0])\n",
    "        # If using a general model, class 0 is 'person'\n",
    "        # If using a face model, all detections are faces\n",
    "        if yolo_model.names[cls] == 'person' or 'face' in yolo_model.names[cls]:\n",
    "            x1, y1, x2, y2 = map(int, box.xyxy[0])\n",
    "            faces.append((x1, y1, x2, y2))\n",
    "            cv2.rectangle(frame, (x1, y1), (x2, y2), (0,255,0), 2)\n",
    "\n",
    "    cv2.imshow('Webcam (YOLOv8 Face + Emotion)', frame)\n",
    "\n",
    "    current_time = time.time()\n",
    "    if current_time - last_prediction_time >= interval and len(faces) > 0:\n",
    "        # Use the largest face\n",
    "        x1, y1, x2, y2 = max(faces, key=lambda b: (b[2]-b[0])*(b[3]-b[1]))\n",
    "        face_img = frame[y1:y2, x1:x2]\n",
    "        if face_img.size != 0:\n",
    "            face_gray = cv2.cvtColor(face_img, cv2.COLOR_BGR2GRAY)\n",
    "            img = cv2.resize(face_gray, (48, 48))\n",
    "            img = img.astype('float32') / 255.0\n",
    "            img = np.expand_dims(img, axis=-1)\n",
    "            img = np.expand_dims(img, axis=0)\n",
    "            preds = model.predict(img)\n",
    "            pred_index = np.argmax(preds)\n",
    "            pred_label = le.inverse_transform([pred_index])[0]\n",
    "            print(f\"Prediction: {pred_label}\")\n",
    "        last_prediction_time = current_time\n",
    "\n",
    "    if cv2.waitKey(1) & 0xFF == ord('q'):\n",
    "        break\n",
    "\n",
    "cap.release()\n",
    "cv2.destroyAllWindows()\n"
   ]
  }
 ],
 "metadata": {
  "kernelspec": {
   "display_name": "condaenv",
   "language": "python",
   "name": "python3"
  },
  "language_info": {
   "codemirror_mode": {
    "name": "ipython",
    "version": 3
   },
   "file_extension": ".py",
   "mimetype": "text/x-python",
   "name": "python",
   "nbconvert_exporter": "python",
   "pygments_lexer": "ipython3",
   "version": "undefined.undefined.undefined"
  }
 },
 "nbformat": 4,
 "nbformat_minor": 5
}
