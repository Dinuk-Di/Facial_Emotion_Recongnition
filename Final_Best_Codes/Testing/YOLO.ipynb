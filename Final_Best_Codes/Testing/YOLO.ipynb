{
 "cells": [
  {
   "cell_type": "code",
   "execution_count": null,
   "id": "9b827931",
   "metadata": {},
   "outputs": [],
   "source": [
    "import cv2\n",
    "import time\n",
    "from ultralytics import YOLO\n",
    "\n",
    "# Define your emotion class names\n",
    "emotion_classes = ['angry','boring','disgust','fear','happy','neutral','sad','stress','surprise']\n",
    "\n",
    "# Load your custom model\n",
    "model = YOLO(\"D:\\RuhunaNew\\Academic\\Research\\Facial_Recog\\Group_50\\\\best.pt\")\n",
    "\n",
    "cap = cv2.VideoCapture(0)\n",
    "inference_interval = 5  # seconds\n",
    "last_inference_time = 0\n",
    "last_label = \"No emotion detected\"\n",
    "\n",
    "while True:\n",
    "    ret, frame = cap.read()\n",
    "    if not ret:\n",
    "        break\n",
    "\n",
    "    current_time = time.time()\n",
    "    # Run inference every 5 seconds\n",
    "    if current_time - last_inference_time >= inference_interval:\n",
    "        results = model(frame)\n",
    "        last_inference_time = current_time\n",
    "\n",
    "        # Process results\n",
    "        if results[0].boxes is not None and len(results[0].boxes) > 0:\n",
    "            box = results[0].boxes[0]\n",
    "            class_id = int(box.cls[0])\n",
    "            confidence = box.conf[0].item()\n",
    "            last_label = f\"{emotion_classes[class_id]} ({confidence:.2f})\"\n",
    "            # Optionally, draw box:\n",
    "            x1, y1, x2, y2 = map(int, box.xyxy[0])\n",
    "            cv2.rectangle(frame, (x1, y1), (x2, y2), (0,255,0), 2)\n",
    "            cv2.putText(frame, last_label, (x1, y1-10), cv2.FONT_HERSHEY_SIMPLEX, 0.9, (0,255,0), 2)\n",
    "        else:\n",
    "            last_label = \"No emotion detected\"\n",
    "\n",
    "    # Overlay the last detected label on the frame\n",
    "    cv2.putText(frame, last_label, (10, 30), cv2.FONT_HERSHEY_SIMPLEX, 1, (0, 255, 0), 2)\n",
    "    cv2.imshow(\"YOLOv11 Emotion Detection\", frame)\n",
    "\n",
    "    if cv2.waitKey(1) & 0xFF == ord('q'):\n",
    "        break\n",
    "\n",
    "cap.release()\n",
    "cv2.destroyAllWindows()"
   ]
  }
 ],
 "metadata": {
  "language_info": {
   "name": "python"
  }
 },
 "nbformat": 4,
 "nbformat_minor": 5
}
