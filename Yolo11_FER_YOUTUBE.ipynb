{
  "cells": [
    {
      "cell_type": "code",
      "execution_count": null,
      "metadata": {},
      "outputs": [],
      "source": [
        "from ultralytics import YOLO\n",
        "\n",
        "# Load a pretrained YOLO11n model\n",
        "model = YOLO(\"yolo11n.pt\")\n",
        "\n",
        "# Run inference on the source\n",
        "results = model(source=0, stream=True)  # generator of Results objects"
      ]
    },
    {
      "cell_type": "code",
      "execution_count": null,
      "metadata": {
        "colab": {
          "base_uri": "https://localhost:8080/"
        },
        "id": "aPQqx1BUT1To",
        "outputId": "668d4459-abf0-4ed1-d4b2-421f36263357"
      },
      "outputs": [],
      "source": [
        "\n",
        "import ultralytics\n",
        "ultralytics.checks()"
      ]
    },
    {
      "cell_type": "code",
      "execution_count": null,
      "metadata": {
        "id": "dsG2NDSUT9Vl"
      },
      "outputs": [],
      "source": [
        "from ultralytics import YOLO\n",
        "from IPython.display import display, Image"
      ]
    },
    {
      "cell_type": "code",
      "execution_count": null,
      "metadata": {
        "colab": {
          "base_uri": "https://localhost:8080/",
          "height": 1000
        },
        "id": "o3CcHP5jUILn",
        "outputId": "8b5de1b0-1c99-4050-ca96-adf0b6c14378"
      },
      "outputs": [],
      "source": [
        "!pip install roboflow\n",
        "\n",
        "from roboflow import Roboflow\n",
        "rf = Roboflow(api_key=\"SU62eAN3d25O4SgsJjdA\")\n",
        "project = rf.workspace(\"grape-plant\").project(\"facial-emotion-dataset-7g1jd-hipbk-emlyt\")\n",
        "version = project.version(2)\n",
        "dataset = version.download(\"yolov11\")  \n"
      ]
    },
    {
      "cell_type": "code",
      "execution_count": null,
      "metadata": {},
      "outputs": [],
      "source": [
        "!pip install -U ultralytics"
      ]
    },
    {
      "cell_type": "markdown",
      "metadata": {
        "id": "mw7TBK_N9I_Y"
      },
      "source": [
        "try with 300 epochs . It is best"
      ]
    },
    {
      "cell_type": "code",
      "execution_count": null,
      "metadata": {
        "colab": {
          "base_uri": "https://localhost:8080/"
        },
        "id": "sTEtlvKossqd",
        "outputId": "188702a1-619f-421a-e3b4-ef333a4dbd07"
      },
      "outputs": [],
      "source": [
        "!yolo task = detect mode=train data='/mnt/d/Group50/Facial_Emotion_Recongnition/Unzipped/data.yaml' model='/mnt/d/Group50/Facial_Emotion_Recongnition/yolo11n.pt' epochs=100 imgsz=128 batch=64"
      ]
    },
    {
      "cell_type": "markdown",
      "metadata": {
        "id": "2TCeMgi06bcQ"
      },
      "source": [
        "Validate Fine Tuned Model"
      ]
    },
    {
      "cell_type": "code",
      "execution_count": null,
      "metadata": {},
      "outputs": [],
      "source": [
        "from ultralytics import YOLO\n",
        "\n",
        "# Load a model\n",
        "model = YOLO(\"/mnt/d/Group50/Facial_Emotion_Recongnition/yolo11n.pt\")  # load a pretrained model (recommended for training)\n",
        "\n",
        "# Train the model with 2 GPUs\n",
        "results = model.train(data=\"/mnt/d/Group50/Facial_Emotion_Recongnition/Unzipped/data.yaml\", epochs=100, imgsz=128, batch=64)\n",
        "\n"
      ]
    },
    {
      "cell_type": "markdown",
      "metadata": {
        "id": "5MJ0UzMW9DEf"
      },
      "source": [
        "Download the best.pt file in below line then use it"
      ]
    },
    {
      "cell_type": "code",
      "execution_count": null,
      "metadata": {
        "id": "TX2v5SXNtoHq"
      },
      "outputs": [],
      "source": [
        "!yolo task = detect mode=val model=\"/content/runs/detect/train/weights/best.pt\" data=/content/Facial-Emotion-Dataset--2/data.yaml"
      ]
    },
    {
      "cell_type": "code",
      "execution_count": null,
      "metadata": {
        "id": "HrPLz33C65Dr"
      },
      "outputs": [],
      "source": [
        "!yolo task=detect mode=predict model=\"/content/runs/detect/train/weights/best.pt\" conf=0.25 source=/content/Facial-Emotion-Dataset--2/test/images save=True"
      ]
    },
    {
      "cell_type": "markdown",
      "metadata": {
        "id": "aAk61RAT84U1"
      },
      "source": [
        "To load some predicted images"
      ]
    },
    {
      "cell_type": "code",
      "execution_count": null,
      "metadata": {
        "id": "koqsOos87TRu"
      },
      "outputs": [],
      "source": [
        "import glob\n",
        "import os\n",
        "from IPython.display import Image as IPyImage,display\n",
        "\n",
        "latest_floder = max(glob.glob('/content/runs/detect/predict*/'), key=os.path.getmtime)\n",
        "for img in glob.glob(f'{latest_floder}/*.jpg')[1:4]:\n",
        "  display(IPyImage(filename=img, width=600))\n",
        "  print(\"\\n\")"
      ]
    },
    {
      "cell_type": "markdown",
      "metadata": {
        "id": "MBezrPuX9uz3"
      },
      "source": [
        "Real time testing code"
      ]
    },
    {
      "cell_type": "code",
      "execution_count": null,
      "metadata": {
        "id": "-W3iTKO987Y_"
      },
      "outputs": [],
      "source": [
        "from ultralytics import YOLO\n",
        "from PIT import Image\n",
        "import cv2\n",
        "\n",
        "model=YOLO(\"best.pt\")\n",
        "results = model.predict(source=\"0\",show=True)"
      ]
    }
  ],
  "metadata": {
    "colab": {
      "provenance": []
    },
    "kernelspec": {
      "display_name": "condaenv",
      "language": "python",
      "name": "python3"
    },
    "language_info": {
      "codemirror_mode": {
        "name": "ipython",
        "version": 3
      },
      "file_extension": ".py",
      "mimetype": "text/x-python",
      "name": "python",
      "nbconvert_exporter": "python",
      "pygments_lexer": "ipython3",
      "version": "3.11.11"
    }
  },
  "nbformat": 4,
  "nbformat_minor": 0
}
